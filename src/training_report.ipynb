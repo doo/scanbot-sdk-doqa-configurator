{
 "cells": [
  {
   "metadata": {
    "tags": [
     "parameters"
    ]
   },
   "cell_type": "code",
   "source": "pickle_file: str",
   "id": "4d9372a18c168806",
   "outputs": [],
   "execution_count": null
  },
  {
   "metadata": {},
   "cell_type": "code",
   "source": [
    "from pathlib import Path\n",
    "import pickle\n",
    "from IPython.display import display, HTML\n",
    "\n",
    "with open(pickle_file, \"rb\") as f:\n",
    "    parameters = pickle.load(f)\n",
    "y = parameters[\"y\"]\n",
    "y_cv_pred = parameters[\"y_cv_pred\"]\n",
    "model_path: Path = parameters[\"model_path\"]\n",
    "mean_test_accuracy = parameters[\"mean_test_accuracy\"]\n",
    "threshold_waypoints = parameters[\"threshold_waypoints\"]\n",
    "training_dir = parameters[\"training_dir\"]"
   ],
   "id": "2ffd6725cb3a5694",
   "outputs": [],
   "execution_count": null
  },
  {
   "metadata": {
    "tags": []
   },
   "cell_type": "markdown",
   "source": [
    "# Document Quality Analyzer training results\n",
    "\n",
    "Your trained model has been saved in your training directory as:"
   ],
   "id": "9b5e36749a042586"
  },
  {
   "metadata": {},
   "cell_type": "code",
   "source": "print(model_path.parts[-1])",
   "id": "6ecc2d58f5486026",
   "outputs": [],
   "execution_count": null
  },
  {
   "metadata": {},
   "cell_type": "markdown",
   "source": [
    "Please provide the contents of this file in the configuration when instantiating the ScanbotSDK Document Quality Analyzer.\n",
    "\n",
    "## Model quality"
   ],
   "id": "d84d2b2ba23b7e26"
  },
  {
   "metadata": {},
   "cell_type": "code",
   "source": "display(HTML(f\"Your model achieved a cross-validation accuracy of <b>{mean_test_accuracy * 100:.1f}%</b>.\"))",
   "id": "ae47878c2c54a101",
   "outputs": [],
   "execution_count": null
  },
  {
   "metadata": {},
   "cell_type": "markdown",
   "source": [
    "\n",
    "The following plot shows what performance your can expect from your model.<br>\n",
    "The x-axis displays the \"uncertainty threshold\", a parameter which you can freely choose when instantiating the ScanbotSDK Document Quality Analyzer (default = 0.5).\n",
    "A higher uncertainty threshold will reduce falsely classified samples, but also increase the number of samples that are classified as 'uncertain'.<br>\n",
    "The y-axis show what percentage of the documents get correctly / incorrectly classified."
   ],
   "id": "a3d50beb55338e65"
  },
  {
   "metadata": {},
   "cell_type": "code",
   "source": [
    "from train_plots import plot_stacked_area_uncertainty\n",
    "\n",
    "fig = plot_stacked_area_uncertainty(\n",
    "    y=y,\n",
    "    y_pred=y_cv_pred,\n",
    "    threshold_waypoints=threshold_waypoints,\n",
    "    output_dir=None,\n",
    ")\n",
    "fig.show(renderer=\"notebook\")"
   ],
   "id": "ecb87be666909de9",
   "outputs": [],
   "execution_count": null
  },
  {
   "metadata": {},
   "cell_type": "code",
   "source": [
    "plot_svg = Path('reference_classification_uncertainty_plot.svg').read_text()\n",
    "display(HTML(f'<details><summary>Click here to show how the plot of how a successful training might look like.<br>'\n",
    "             f'If your training plot looks significantly different, there might be an issue with your training images.'\n",
    "             f'</summary>{plot_svg}</details>'))"
   ],
   "id": "85e3ef2bd5671554",
   "outputs": [],
   "execution_count": null
  }
 ],
 "metadata": {
  "kernelspec": {
   "display_name": "Python 3",
   "language": "python",
   "name": "python3"
  },
  "language_info": {
   "codemirror_mode": {
    "name": "ipython",
    "version": 2
   },
   "file_extension": ".py",
   "mimetype": "text/x-python",
   "name": "python",
   "nbconvert_exporter": "python",
   "pygments_lexer": "ipython2",
   "version": "2.7.6"
  }
 },
 "nbformat": 4,
 "nbformat_minor": 5
}
