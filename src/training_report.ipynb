{
 "cells": [
  {
   "metadata": {
    "tags": [
     "parameters"
    ]
   },
   "cell_type": "code",
   "source": "pickle_file: str = None",
   "id": "4d9372a18c168806",
   "outputs": [],
   "execution_count": null
  },
  {
   "metadata": {},
   "cell_type": "code",
   "source": [
    "from pathlib import Path\n",
    "import pickle\n",
    "from IPython.display import display, HTML\n",
    "\n",
    "with open(pickle_file, \"rb\") as f:\n",
    "    parameters = pickle.load(f)\n",
    "X = parameters[\"X\"]\n",
    "y = parameters[\"y\"]\n",
    "y_cv_pred = parameters[\"y_cv_pred\"]\n",
    "model_path: Path = parameters[\"model_path\"]\n",
    "model_config = parameters[\"model_config\"]\n",
    "mean_test_accuracy = parameters[\"mean_test_accuracy\"]\n",
    "threshold_waypoints = parameters[\"threshold_waypoints\"]\n",
    "training_dir = parameters[\"training_dir\"]"
   ],
   "id": "2ffd6725cb3a5694",
   "outputs": [],
   "execution_count": null
  },
  {
   "metadata": {
    "tags": []
   },
   "cell_type": "markdown",
   "source": [
    "# Document Quality Analyzer training results\n",
    "\n",
    "Your trained model has been saved in your training directory as:"
   ],
   "id": "9b5e36749a042586"
  },
  {
   "metadata": {},
   "cell_type": "code",
   "source": "print(model_path.parts[-1])",
   "id": "6ecc2d58f5486026",
   "outputs": [],
   "execution_count": null
  },
  {
   "metadata": {},
   "cell_type": "markdown",
   "source": "Please provide the contents of this file in the configuration when instantiating the ScanbotSDK Document Quality Analyzer.",
   "id": "d84d2b2ba23b7e26"
  },
  {
   "metadata": {},
   "cell_type": "code",
   "source": [
    "html = f\"\"\"\n",
    "<script>\n",
    "model_config = \"{model_config}\";\n",
    "\"\"\"+\"\"\"\n",
    "function copy_model_config_to_clipboard(e){\n",
    "if(navigator.clipboard){\n",
    "  navigator.clipboard.writeText(model_config).then(function() {\n",
    "    e.target.innerText = 'Copied model config to your clipboard!';\n",
    "  }, function(err) {\n",
    "    alert('Could not copy model configuration to clipboard: ', err);\n",
    "  });\n",
    "} else {\n",
    "    alert('Could not copy model configuration to clipboard.');\n",
    "}\n",
    "}\n",
    "</script>\n",
    "<button onclick=\"copy_model_config_to_clipboard(event)\">Click here to copy the model config to your clipboard</button>\n",
    "\"\"\"\n",
    "display(HTML(html))"
   ],
   "id": "1e71d7d5d8acc74d",
   "outputs": [],
   "execution_count": null
  },
  {
   "metadata": {},
   "cell_type": "markdown",
   "source": [
    "\n",
    "## Model quality"
   ],
   "id": "5553a603799bec07"
  },
  {
   "metadata": {},
   "cell_type": "code",
   "source": "display(HTML(f\"Your model achieved an mean cross-validation accuracy of <b>{mean_test_accuracy * 100:.1f}%</b>.\"))",
   "id": "ae47878c2c54a101",
   "outputs": [],
   "execution_count": null
  },
  {
   "metadata": {},
   "cell_type": "markdown",
   "source": [
    "The cross-validation accuracy describes how well the model was able to learn from your dataset.\n",
    "* &lt;80% means that the good and bad samples in your dataset are hard to distinguish.\n",
    "* &gt;80% means that your dataset is learnable but needs more samples.\n",
    "* &gt;90% is typically good enough for production.\n",
    "\n",
    "During training, the model had problems to correctly classify the following samples:"
   ],
   "id": "a3d50beb55338e65"
  },
  {
   "metadata": {},
   "cell_type": "code",
   "source": [
    "false_positives = ((y == 0) & (y_cv_pred > 0))\n",
    "false_negatives = ((y == 1) & (y_cv_pred < 0))\n",
    "\n",
    "def link_sample(sample):\n",
    "    relative_path = Path(sample[\"image_path\"]).relative_to(training_dir)\n",
    "    return f'<a href=\"{relative_path}\">{relative_path}</a><br>\\n'\n",
    "\n",
    "html = f'<details><summary>Click here to show the false positives (\"unacceptable\" training samples classified as \"acceptable\", {false_positives.sum()} of {(y == 0).sum()} samples).</summary>'\n",
    "for i, x in X[false_positives].iterrows():\n",
    "    html += link_sample(x)\n",
    "html += '</details>'\n",
    "html += f'<details><summary>Click here to show the false negatives (\"acceptable\" training samples classified as \"unacceptable\", {false_negatives.sum()} of {(y == 1).sum()} samples).</summary>'\n",
    "for i, x in X[false_negatives].iterrows():\n",
    "    html += link_sample(x)\n",
    "html += '</details>'\n",
    "display(HTML(html))"
   ],
   "id": "a33335db6fbdbcf9",
   "outputs": [],
   "execution_count": null
  },
  {
   "metadata": {},
   "cell_type": "markdown",
   "source": [
    "## Recommended next Steps\n",
    "\n",
    "**If your model's cross validation accuracy (see above) is less than 90%:**<br>\n",
    "Add more good and bad examples to improve model accuracy, or consider removing confusing examples (see list of confusing examples above).\n",
    "\n",
    "**If your model's cross validation accuracy is greater than 90%:**<br>\n",
    "* Copy the model config string (see above) into your app's configuration. Please refer to the [Scanbot SDK Documentation](https://docs.scanbot.io/) for details.\n",
    "* Optionally, you can choose a non-default uncertainty threshold. See the following section for details."
   ],
   "id": "eb4707a311c863e6"
  },
  {
   "metadata": {},
   "cell_type": "markdown",
   "source": [
    "\n",
    "\n",
    "## Choosing an uncertainty threshold\n",
    "Documents which are neither clearly good nor clearly bad may be classified incorrectly.\n",
    "A borderline good document may be classified as unacceptable and a borderline bad document may be classified as acceptable.\n",
    "An incorrect classification often leads to user frustration and generally should be avoided.\n",
    "\n",
    "DoQA is able to put borderline documents into a third category: uncertain. The third category provides an alternative workflow path for your users:\n",
    "* If a document's quality is acceptable, then you know it's definitely acceptable: accept document for further processing\n",
    "* If a document's quality is unacceptable, then you know it's definitely unacceptable: request that user retake the photo, don't allow the user to skip the quality check.\n",
    "* If a document's quality is uncertain, then you're unsure: request that the user retake the photo only once, then allow the user to skip the quality check, if the second photo also has uncertain quality.\n",
    "\n",
    "The \"Uncertainty Threshold\" parameter lets you decide how certain the model should be.\n",
    "A higher threshold will produce fewer incorrect classifications, but more uncertain ones. By default it is set to 0.5.\n",
    "A lower threshold will produce fewer uncertain classifications, but more incorrect ones. <br>\n",
    "Every dataset is different, so every dataset's optimal Uncertainty Threshold is different.\n",
    "Additionally, every use case's tolerance for incorrect classifications is different.\n",
    "Look at the graphs and tables below to pick the optimal Uncertainty Threshold for your dataset and use case.\n",
    "\n",
    "The following plots show what performance your can expect from your model.<br>\n",
    "The x-axis display the Uncertainty Threshold.\n",
    "The y-axis show what percentage of the documents get correctly / incorrectly classified."
   ],
   "id": "5eff908ae3002dc8"
  },
  {
   "metadata": {},
   "cell_type": "code",
   "source": [
    "from train_plots import plot_classification\n",
    "from configurator_utils import colorblind_friendly_plots\n",
    "\n",
    "fig1 = plot_classification(\n",
    "    y=y,\n",
    "    y_pred=y_cv_pred,\n",
    "    threshold_waypoints=threshold_waypoints,\n",
    "    output_dir=None,\n",
    "    colorblind_friendly=False\n",
    ")\n",
    "fig2 = plot_classification(\n",
    "    y=y,\n",
    "    y_pred=y_cv_pred,\n",
    "    threshold_waypoints=threshold_waypoints,\n",
    "    output_dir=None,\n",
    "    colorblind_friendly=True\n",
    ")\n",
    "display(HTML(colorblind_friendly_plots(fig1.to_html(full_html=False), fig2.to_html(include_plotlyjs=False, full_html=False))))"
   ],
   "id": "f784a9aae2bb479e",
   "outputs": [],
   "execution_count": null
  },
  {
   "metadata": {},
   "cell_type": "code",
   "source": [
    "plot_svg = Path('reference_classification_uncertainty_plot.svg').read_text()\n",
    "display(HTML(f'<details><summary>Click here to show how the plot of how a successful training might look like.<br>'\n",
    "             f'If your training plot looks significantly different, there might be an issue with your training images.'\n",
    "             f'</summary>{plot_svg}</details>'))"
   ],
   "id": "95f7ed4c7151b407",
   "outputs": [],
   "execution_count": null
  }
 ],
 "metadata": {
  "kernelspec": {
   "display_name": "Python 3",
   "language": "python",
   "name": "python3"
  },
  "language_info": {
   "codemirror_mode": {
    "name": "ipython",
    "version": 2
   },
   "file_extension": ".py",
   "mimetype": "text/x-python",
   "name": "python",
   "nbconvert_exporter": "python",
   "pygments_lexer": "ipython2",
   "version": "2.7.6"
  }
 },
 "nbformat": 4,
 "nbformat_minor": 5
}
