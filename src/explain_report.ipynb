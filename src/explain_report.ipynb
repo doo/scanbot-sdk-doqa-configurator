{
 "cells": [
  {
   "metadata": {},
   "cell_type": "code",
   "source": "%matplotlib inline",
   "id": "ab1cc91b7b7251e",
   "outputs": [],
   "execution_count": null
  },
  {
   "cell_type": "code",
   "id": "initial_id",
   "metadata": {
    "collapsed": true,
    "tags": [
     "parameters"
    ]
   },
   "source": [
    "scanbotsdk_license_key: str\n",
    "training_dir: str\n",
    "explain_image_path: str\n",
    "config_debug_path: str"
   ],
   "outputs": [],
   "execution_count": null
  },
  {
   "metadata": {},
   "cell_type": "markdown",
   "source": "# Document Quality Analyzer - Debug Analysis",
   "id": "a0af00965c18b4a3"
  },
  {
   "metadata": {},
   "cell_type": "code",
   "source": [
    "from pathlib import Path\n",
    "\n",
    "print(f\"For {Path(explain_image_path).relative_to(training_dir)}:\")"
   ],
   "id": "c7147edc434ad2dc",
   "outputs": [],
   "execution_count": null
  },
  {
   "metadata": {},
   "cell_type": "markdown",
   "source": [
    "The following image visualizes what text the DoQA detects in your image.<br>\n",
    "Based on this information, DoQA will compare the characteristics of your image to the characteristics of images seen during training.\n",
    "If there seems to be something wrong with the text detection, please contact Scanbot SDK support. Please provide the image and this analysis report."
   ],
   "id": "32cf2ed288725ef5"
  },
  {
   "metadata": {},
   "cell_type": "code",
   "source": [
    "import scanbotsdk\n",
    "\n",
    "from character_annotations_plot import plot_annotations\n",
    "\n",
    "training_dir = Path(training_dir)\n",
    "explain_image_path = Path(explain_image_path)\n",
    "\n",
    "scanbotsdk.set_logging(False)\n",
    "scanbotsdk.initialize(scanbotsdk_license_key)\n",
    "document_quality_analyzer = scanbotsdk.DocumentQualityAnalyzerTrainingDataAnnotator()\n",
    "image = scanbotsdk.ImageRef.from_path(explain_image_path)\n",
    "annotations = document_quality_analyzer.run(image=image)\n",
    "\n",
    "plt = plot_annotations(explain_image_path, annotations)\n",
    "plt.show(block=False)"
   ],
   "id": "d5ea51e491511560",
   "outputs": [],
   "execution_count": null
  },
  {
   "metadata": {},
   "cell_type": "markdown",
   "source": [
    "## Similar images in training data\n",
    "\n",
    "The following images from the training data are most similar to your image.<br>\n",
    "The similarity is in the range 0% (not similar at all) to 100% (identical).<br>\n",
    "Using this information, you can fine-tune your training data: E.g. if you want that your image is classified as \"acceptable\", but it is currently reported as \"unacceptable\" by DoQA, try adding more similar images to the \"good\" training data or removing very similar images from the \"bad\" training data."
   ],
   "id": "4578b2e5b0973b3e"
  },
  {
   "metadata": {},
   "cell_type": "code",
   "source": [
    "import pickle\n",
    "import pandas as pd\n",
    "from configurator_utils import load_samples_from_training_dir, get_character_properties, all_features\n",
    "from CharacterClusteringTransformer import CharacterClusteringTransformer\n",
    "import numpy as np\n",
    "\n",
    "sample = dict(\n",
    "    image_path=explain_image_path,\n",
    "    character_level_annotations=pd.DataFrame(\n",
    "        get_character_properties(annotations.character_level_annotations, all_features)\n",
    "    ),\n",
    ")\n",
    "\n",
    "samples = load_samples_from_training_dir(\n",
    "    training_dir=training_dir,\n",
    "    smoke_test=False,\n",
    "    document_quality_analyzer=document_quality_analyzer,\n",
    "    num_jobs=4,\n",
    "    cache_enabled=True,\n",
    "    show_progress=False,\n",
    ")\n",
    "X = pd.DataFrame(samples)\n",
    "\n",
    "clustering: CharacterClusteringTransformer = pickle.load(open(config_debug_path, \"rb\"))['clustering']\n",
    "\n",
    "good_bad_cluster_hists = clustering.transform(X)\n",
    "sample_cluster_hist = np.asarray(clustering.transform(pd.DataFrame([sample]))[0])\n",
    "\n",
    "X['distance'] = [np.linalg.norm(sample_cluster_hist - np.asarray(reference)) for reference in good_bad_cluster_hists]\n",
    "\n",
    "fig, axs = plt.subplots(2, 5, figsize=(13, 8))\n",
    "for index, (_, row) in enumerate(X.nsmallest(10, 'distance').iterrows()):\n",
    "    rel_path = Path(row['image_path']).relative_to(training_dir)\n",
    "    similarity = (1 - row['distance']) * 100\n",
    "    title = f\"{rel_path}\\nSimilarity: {similarity:.2f}%\"\n",
    "    ax = axs.flatten()[index]\n",
    "    ax.set_title(title, fontsize=8)\n",
    "    ax.imshow(plt.imread(row['image_path']))\n",
    "    ax.axis('off')\n",
    "plt.tight_layout()\n",
    "plt.show(block=False)\n",
    "\n",
    "\n"
   ],
   "id": "6d703a1f6a2c0e25",
   "outputs": [],
   "execution_count": null
  }
 ],
 "metadata": {
  "kernelspec": {
   "display_name": "Python 3",
   "language": "python",
   "name": "python3"
  },
  "language_info": {
   "codemirror_mode": {
    "name": "ipython",
    "version": 2
   },
   "file_extension": ".py",
   "mimetype": "text/x-python",
   "name": "python",
   "nbconvert_exporter": "python",
   "pygments_lexer": "ipython2",
   "version": "2.7.6"
  }
 },
 "nbformat": 4,
 "nbformat_minor": 5
}
